{
 "cells": [
  {
   "cell_type": "markdown",
   "id": "7362241f-c160-490e-9ee0-35c2541ebb2b",
   "metadata": {},
   "source": [
    "# Get Data from Kaggle using your API credentials"
   ]
  },
  {
   "cell_type": "code",
   "execution_count": null,
   "id": "b500a141-87b3-44ab-9d84-a1afcd39ceb3",
   "metadata": {},
   "outputs": [],
   "source": [
    "%%bash \n",
    "mkdir ~/.kaggle\n",
    "cp kaggle.json ~/.kaggle/kaggle.json\n",
    "chmod 600 ~/.kaggle/kaggle.json\n",
    "pip install kaggle\n",
    "kaggle datasets download -d andrewmvd/road-sign-detection\n",
    "unzip road-sign-detection.zip -d data\n",
    "mv ./data/annotations ./data/labels"
   ]
  },
  {
   "cell_type": "markdown",
   "id": "08e5b0d1-e6b4-4121-8458-01d8a8a22fee",
   "metadata": {},
   "source": [
    "# Set up Yolov5"
   ]
  },
  {
   "cell_type": "code",
   "execution_count": null,
   "id": "eda7d4f0-4927-4be7-a715-505d8019e533",
   "metadata": {},
   "outputs": [],
   "source": [
    "%%bash\n",
    "git clone https://github.com/ultralytics/yolov5\n",
    "cd yolov5 \n",
    "pip install -r requirements.txt"
   ]
  },
  {
   "cell_type": "code",
   "execution_count": null,
   "id": "bd0b38bd-d864-427a-8d9b-4dfcae6e1d22",
   "metadata": {},
   "outputs": [],
   "source": [
    "from preprocessing import convert_voc_to_yolo"
   ]
  },
  {
   "cell_type": "code",
   "execution_count": null,
   "id": "40de26c7-541d-43c5-a071-060bf692df62",
   "metadata": {},
   "outputs": [],
   "source": [
    "convert_voc_to_yolo()"
   ]
  },
  {
   "cell_type": "code",
   "execution_count": null,
   "id": "9f74a541-2fc1-40a6-a11d-7b7356d7a7f1",
   "metadata": {},
   "outputs": [],
   "source": [
    "%%bash\n",
    "#cp yolov5/data/VOC.yaml yolov5/VOC.yaml\n",
    "# # Write out this YAML\n",
    "# path: ../data\n",
    "# train: # train images (relative to 'path')  16551 images\n",
    "#   - images\n",
    "# val: # val images (relative to 'path')  4952 images\n",
    "#   - images\n",
    "\n",
    "# # Classes\n",
    "# names:\n",
    "#   0: trafficlight\n",
    "#   1: speedlimit\n",
    "#   2: crosswalk\n",
    "#   3: stop"
   ]
  },
  {
   "cell_type": "markdown",
   "id": "2e80c12e-980e-47cb-9244-6490b2e8d24d",
   "metadata": {},
   "source": [
    "# Get the model running"
   ]
  },
  {
   "cell_type": "code",
   "execution_count": null,
   "id": "6afcb088-b191-4f55-8678-4b5a298c84a9",
   "metadata": {},
   "outputs": [],
   "source": [
    "import torch\n",
    "from matplotlib import pyplot as plt\n",
    "import numpy as np\n",
    "import cv2\n",
    "import itertools\n",
    "import os \n"
   ]
  },
  {
   "cell_type": "code",
   "execution_count": null,
   "id": "e20f83b2-b3f8-4115-a6ad-945890c8f2f9",
   "metadata": {},
   "outputs": [],
   "source": [
    "%%bash\n",
    "cd yolov5 \n",
    "python train.py --img 320 --batch 16 --epochs 500 --data customVOC.yaml --weights yolov5s.pt --workers 2"
   ]
  },
  {
   "cell_type": "code",
   "execution_count": null,
   "id": "c37ce9c5-8d77-42f1-a862-853742197997",
   "metadata": {},
   "outputs": [],
   "source": [
    "model = torch.hub.load('ultralytics/yolov5', 'custom', path='yolov5/runs/train/exp5/weights/best.pt', force_reload=True)\n"
   ]
  },
  {
   "cell_type": "code",
   "execution_count": null,
   "id": "b95859b3-2af2-47a6-8756-694f377e3314",
   "metadata": {},
   "outputs": [],
   "source": [
    "fig, ax = plt.subplots(2,4, figsize=(20,10))\n",
    "imgs = os.listdir('./data/images')\n",
    "\n",
    "for idx in itertools.product(range(2),range(4)): \n",
    "    imgname = np.random.choice(imgs)\n",
    "    img = cv2.imread(f'./data/images/{imgname}')\n",
    "    results = model(img)\n",
    "    ax[idx[0],idx[1]].imshow(cv2.cvtColor(np.squeeze(results.render()), cv2.COLOR_BGR2RGB))"
   ]
  }
 ],
 "metadata": {
  "kernelspec": {
   "display_name": "Python 3 (ipykernel)",
   "language": "python",
   "name": "python3"
  },
  "language_info": {
   "codemirror_mode": {
    "name": "ipython",
    "version": 3
   },
   "file_extension": ".py",
   "mimetype": "text/x-python",
   "name": "python",
   "nbconvert_exporter": "python",
   "pygments_lexer": "ipython3",
   "version": "3.9.12"
  }
 },
 "nbformat": 4,
 "nbformat_minor": 5
}
